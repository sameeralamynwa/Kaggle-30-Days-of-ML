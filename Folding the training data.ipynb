{
 "cells": [
  {
   "cell_type": "code",
   "execution_count": 1,
   "id": "c41fbac2",
   "metadata": {
    "_cell_guid": "b1076dfc-b9ad-4769-8c92-a6c4dae69d19",
    "_uuid": "8f2839f25d086af736a60e9eeb907d3b93b6e0e5",
    "execution": {
     "iopub.execute_input": "2021-08-18T10:38:00.476232Z",
     "iopub.status.busy": "2021-08-18T10:38:00.475055Z",
     "iopub.status.idle": "2021-08-18T10:38:01.517667Z",
     "shell.execute_reply": "2021-08-18T10:38:01.516431Z",
     "shell.execute_reply.started": "2021-08-18T10:37:23.705713Z"
    },
    "papermill": {
     "duration": 1.055035,
     "end_time": "2021-08-18T10:38:01.517882",
     "exception": false,
     "start_time": "2021-08-18T10:38:00.462847",
     "status": "completed"
    },
    "tags": []
   },
   "outputs": [],
   "source": [
    "import numpy as np\n",
    "import pandas as pd\n",
    "from sklearn import model_selection"
   ]
  },
  {
   "cell_type": "code",
   "execution_count": 2,
   "id": "3a3be01d",
   "metadata": {
    "execution": {
     "iopub.execute_input": "2021-08-18T10:38:01.542663Z",
     "iopub.status.busy": "2021-08-18T10:38:01.541361Z",
     "iopub.status.idle": "2021-08-18T10:38:04.297236Z",
     "shell.execute_reply": "2021-08-18T10:38:04.296723Z",
     "shell.execute_reply.started": "2021-08-18T10:37:23.711090Z"
    },
    "papermill": {
     "duration": 2.770595,
     "end_time": "2021-08-18T10:38:04.297382",
     "exception": false,
     "start_time": "2021-08-18T10:38:01.526787",
     "status": "completed"
    },
    "tags": []
   },
   "outputs": [],
   "source": [
    "df_train = pd.read_csv('../input/30-days-of-ml/train.csv')"
   ]
  },
  {
   "cell_type": "code",
   "execution_count": 3,
   "id": "18130303",
   "metadata": {
    "execution": {
     "iopub.execute_input": "2021-08-18T10:38:04.321177Z",
     "iopub.status.busy": "2021-08-18T10:38:04.320546Z",
     "iopub.status.idle": "2021-08-18T10:38:04.327519Z",
     "shell.execute_reply": "2021-08-18T10:38:04.326978Z",
     "shell.execute_reply.started": "2021-08-18T10:37:25.036321Z"
    },
    "papermill": {
     "duration": 0.022779,
     "end_time": "2021-08-18T10:38:04.327651",
     "exception": false,
     "start_time": "2021-08-18T10:38:04.304872",
     "status": "completed"
    },
    "tags": []
   },
   "outputs": [],
   "source": [
    "df_train[\"KFold\"] = -1;"
   ]
  },
  {
   "cell_type": "code",
   "execution_count": 4,
   "id": "377d7124",
   "metadata": {
    "execution": {
     "iopub.execute_input": "2021-08-18T10:38:04.353777Z",
     "iopub.status.busy": "2021-08-18T10:38:04.353161Z",
     "iopub.status.idle": "2021-08-18T10:38:04.383741Z",
     "shell.execute_reply": "2021-08-18T10:38:04.383246Z",
     "shell.execute_reply.started": "2021-08-18T10:37:25.044203Z"
    },
    "papermill": {
     "duration": 0.048816,
     "end_time": "2021-08-18T10:38:04.383872",
     "exception": false,
     "start_time": "2021-08-18T10:38:04.335056",
     "status": "completed"
    },
    "tags": []
   },
   "outputs": [
    {
     "data": {
      "text/html": [
       "<div>\n",
       "<style scoped>\n",
       "    .dataframe tbody tr th:only-of-type {\n",
       "        vertical-align: middle;\n",
       "    }\n",
       "\n",
       "    .dataframe tbody tr th {\n",
       "        vertical-align: top;\n",
       "    }\n",
       "\n",
       "    .dataframe thead th {\n",
       "        text-align: right;\n",
       "    }\n",
       "</style>\n",
       "<table border=\"1\" class=\"dataframe\">\n",
       "  <thead>\n",
       "    <tr style=\"text-align: right;\">\n",
       "      <th></th>\n",
       "      <th>id</th>\n",
       "      <th>cat0</th>\n",
       "      <th>cat1</th>\n",
       "      <th>cat2</th>\n",
       "      <th>cat3</th>\n",
       "      <th>cat4</th>\n",
       "      <th>cat5</th>\n",
       "      <th>cat6</th>\n",
       "      <th>cat7</th>\n",
       "      <th>cat8</th>\n",
       "      <th>...</th>\n",
       "      <th>cont6</th>\n",
       "      <th>cont7</th>\n",
       "      <th>cont8</th>\n",
       "      <th>cont9</th>\n",
       "      <th>cont10</th>\n",
       "      <th>cont11</th>\n",
       "      <th>cont12</th>\n",
       "      <th>cont13</th>\n",
       "      <th>target</th>\n",
       "      <th>KFold</th>\n",
       "    </tr>\n",
       "  </thead>\n",
       "  <tbody>\n",
       "    <tr>\n",
       "      <th>0</th>\n",
       "      <td>1</td>\n",
       "      <td>B</td>\n",
       "      <td>B</td>\n",
       "      <td>B</td>\n",
       "      <td>C</td>\n",
       "      <td>B</td>\n",
       "      <td>B</td>\n",
       "      <td>A</td>\n",
       "      <td>E</td>\n",
       "      <td>C</td>\n",
       "      <td>...</td>\n",
       "      <td>0.160266</td>\n",
       "      <td>0.310921</td>\n",
       "      <td>0.389470</td>\n",
       "      <td>0.267559</td>\n",
       "      <td>0.237281</td>\n",
       "      <td>0.377873</td>\n",
       "      <td>0.322401</td>\n",
       "      <td>0.869850</td>\n",
       "      <td>8.113634</td>\n",
       "      <td>-1</td>\n",
       "    </tr>\n",
       "    <tr>\n",
       "      <th>1</th>\n",
       "      <td>2</td>\n",
       "      <td>B</td>\n",
       "      <td>B</td>\n",
       "      <td>A</td>\n",
       "      <td>A</td>\n",
       "      <td>B</td>\n",
       "      <td>D</td>\n",
       "      <td>A</td>\n",
       "      <td>F</td>\n",
       "      <td>A</td>\n",
       "      <td>...</td>\n",
       "      <td>0.558922</td>\n",
       "      <td>0.516294</td>\n",
       "      <td>0.594928</td>\n",
       "      <td>0.341439</td>\n",
       "      <td>0.906013</td>\n",
       "      <td>0.921701</td>\n",
       "      <td>0.261975</td>\n",
       "      <td>0.465083</td>\n",
       "      <td>8.481233</td>\n",
       "      <td>-1</td>\n",
       "    </tr>\n",
       "    <tr>\n",
       "      <th>2</th>\n",
       "      <td>3</td>\n",
       "      <td>A</td>\n",
       "      <td>A</td>\n",
       "      <td>A</td>\n",
       "      <td>C</td>\n",
       "      <td>B</td>\n",
       "      <td>D</td>\n",
       "      <td>A</td>\n",
       "      <td>D</td>\n",
       "      <td>A</td>\n",
       "      <td>...</td>\n",
       "      <td>0.375348</td>\n",
       "      <td>0.902567</td>\n",
       "      <td>0.555205</td>\n",
       "      <td>0.843531</td>\n",
       "      <td>0.748809</td>\n",
       "      <td>0.620126</td>\n",
       "      <td>0.541474</td>\n",
       "      <td>0.763846</td>\n",
       "      <td>8.364351</td>\n",
       "      <td>-1</td>\n",
       "    </tr>\n",
       "    <tr>\n",
       "      <th>3</th>\n",
       "      <td>4</td>\n",
       "      <td>B</td>\n",
       "      <td>B</td>\n",
       "      <td>A</td>\n",
       "      <td>C</td>\n",
       "      <td>B</td>\n",
       "      <td>D</td>\n",
       "      <td>A</td>\n",
       "      <td>E</td>\n",
       "      <td>C</td>\n",
       "      <td>...</td>\n",
       "      <td>0.239061</td>\n",
       "      <td>0.732948</td>\n",
       "      <td>0.679618</td>\n",
       "      <td>0.574844</td>\n",
       "      <td>0.346010</td>\n",
       "      <td>0.714610</td>\n",
       "      <td>0.540150</td>\n",
       "      <td>0.280682</td>\n",
       "      <td>8.049253</td>\n",
       "      <td>-1</td>\n",
       "    </tr>\n",
       "    <tr>\n",
       "      <th>4</th>\n",
       "      <td>6</td>\n",
       "      <td>A</td>\n",
       "      <td>A</td>\n",
       "      <td>A</td>\n",
       "      <td>C</td>\n",
       "      <td>B</td>\n",
       "      <td>D</td>\n",
       "      <td>A</td>\n",
       "      <td>E</td>\n",
       "      <td>A</td>\n",
       "      <td>...</td>\n",
       "      <td>0.420667</td>\n",
       "      <td>0.648182</td>\n",
       "      <td>0.684501</td>\n",
       "      <td>0.956692</td>\n",
       "      <td>1.000773</td>\n",
       "      <td>0.776742</td>\n",
       "      <td>0.625849</td>\n",
       "      <td>0.250823</td>\n",
       "      <td>7.972260</td>\n",
       "      <td>-1</td>\n",
       "    </tr>\n",
       "  </tbody>\n",
       "</table>\n",
       "<p>5 rows × 27 columns</p>\n",
       "</div>"
      ],
      "text/plain": [
       "   id cat0 cat1 cat2 cat3 cat4 cat5 cat6 cat7 cat8  ...     cont6     cont7  \\\n",
       "0   1    B    B    B    C    B    B    A    E    C  ...  0.160266  0.310921   \n",
       "1   2    B    B    A    A    B    D    A    F    A  ...  0.558922  0.516294   \n",
       "2   3    A    A    A    C    B    D    A    D    A  ...  0.375348  0.902567   \n",
       "3   4    B    B    A    C    B    D    A    E    C  ...  0.239061  0.732948   \n",
       "4   6    A    A    A    C    B    D    A    E    A  ...  0.420667  0.648182   \n",
       "\n",
       "      cont8     cont9    cont10    cont11    cont12    cont13    target  KFold  \n",
       "0  0.389470  0.267559  0.237281  0.377873  0.322401  0.869850  8.113634     -1  \n",
       "1  0.594928  0.341439  0.906013  0.921701  0.261975  0.465083  8.481233     -1  \n",
       "2  0.555205  0.843531  0.748809  0.620126  0.541474  0.763846  8.364351     -1  \n",
       "3  0.679618  0.574844  0.346010  0.714610  0.540150  0.280682  8.049253     -1  \n",
       "4  0.684501  0.956692  1.000773  0.776742  0.625849  0.250823  7.972260     -1  \n",
       "\n",
       "[5 rows x 27 columns]"
      ]
     },
     "execution_count": 4,
     "metadata": {},
     "output_type": "execute_result"
    }
   ],
   "source": [
    "df_train.head()"
   ]
  },
  {
   "cell_type": "code",
   "execution_count": 5,
   "id": "29714dd1",
   "metadata": {
    "execution": {
     "iopub.execute_input": "2021-08-18T10:38:04.405320Z",
     "iopub.status.busy": "2021-08-18T10:38:04.404370Z",
     "iopub.status.idle": "2021-08-18T10:38:04.407248Z",
     "shell.execute_reply": "2021-08-18T10:38:04.407697Z",
     "shell.execute_reply.started": "2021-08-18T10:37:25.076102Z"
    },
    "papermill": {
     "duration": 0.015645,
     "end_time": "2021-08-18T10:38:04.407887",
     "exception": false,
     "start_time": "2021-08-18T10:38:04.392242",
     "status": "completed"
    },
    "tags": []
   },
   "outputs": [],
   "source": [
    "kf = model_selection.KFold(n_splits = 5, shuffle = True, random_state = 42)"
   ]
  },
  {
   "cell_type": "code",
   "execution_count": 6,
   "id": "c7bdeeec",
   "metadata": {
    "execution": {
     "iopub.execute_input": "2021-08-18T10:38:04.428921Z",
     "iopub.status.busy": "2021-08-18T10:38:04.428343Z",
     "iopub.status.idle": "2021-08-18T10:38:04.488678Z",
     "shell.execute_reply": "2021-08-18T10:38:04.489358Z",
     "shell.execute_reply.started": "2021-08-18T10:37:25.082341Z"
    },
    "papermill": {
     "duration": 0.073539,
     "end_time": "2021-08-18T10:38:04.489592",
     "exception": false,
     "start_time": "2021-08-18T10:38:04.416053",
     "status": "completed"
    },
    "tags": []
   },
   "outputs": [
    {
     "name": "stdout",
     "output_type": "stream",
     "text": [
      "0 240000 60000\n",
      "1 240000 60000\n",
      "2 240000 60000\n",
      "3 240000 60000\n",
      "4 240000 60000\n"
     ]
    }
   ],
   "source": [
    " for fold, (train_indicies, valid_indicies) in enumerate (kf.split(df_train)):\n",
    "        print(fold, len(train_indicies), len(valid_indicies))\n",
    "        df_train.loc[valid_indicies, \"KFold\"] = fold"
   ]
  },
  {
   "cell_type": "code",
   "execution_count": 7,
   "id": "e62ec5e3",
   "metadata": {
    "execution": {
     "iopub.execute_input": "2021-08-18T10:38:04.512029Z",
     "iopub.status.busy": "2021-08-18T10:38:04.511283Z",
     "iopub.status.idle": "2021-08-18T10:38:04.515795Z",
     "shell.execute_reply": "2021-08-18T10:38:04.515304Z",
     "shell.execute_reply.started": "2021-08-18T10:37:25.148938Z"
    },
    "papermill": {
     "duration": 0.017279,
     "end_time": "2021-08-18T10:38:04.515928",
     "exception": false,
     "start_time": "2021-08-18T10:38:04.498649",
     "status": "completed"
    },
    "tags": []
   },
   "outputs": [
    {
     "data": {
      "text/plain": [
       "array([     2,      5,     13, ..., 299990, 299993, 299995])"
      ]
     },
     "execution_count": 7,
     "metadata": {},
     "output_type": "execute_result"
    }
   ],
   "source": [
    "valid_indicies"
   ]
  },
  {
   "cell_type": "code",
   "execution_count": 8,
   "id": "53bf476a",
   "metadata": {
    "execution": {
     "iopub.execute_input": "2021-08-18T10:38:04.537515Z",
     "iopub.status.busy": "2021-08-18T10:38:04.536837Z",
     "iopub.status.idle": "2021-08-18T10:38:04.553387Z",
     "shell.execute_reply": "2021-08-18T10:38:04.552850Z",
     "shell.execute_reply.started": "2021-08-18T10:37:25.157456Z"
    },
    "papermill": {
     "duration": 0.029065,
     "end_time": "2021-08-18T10:38:04.553529",
     "exception": false,
     "start_time": "2021-08-18T10:38:04.524464",
     "status": "completed"
    },
    "tags": []
   },
   "outputs": [
    {
     "data": {
      "text/html": [
       "<div>\n",
       "<style scoped>\n",
       "    .dataframe tbody tr th:only-of-type {\n",
       "        vertical-align: middle;\n",
       "    }\n",
       "\n",
       "    .dataframe tbody tr th {\n",
       "        vertical-align: top;\n",
       "    }\n",
       "\n",
       "    .dataframe thead th {\n",
       "        text-align: right;\n",
       "    }\n",
       "</style>\n",
       "<table border=\"1\" class=\"dataframe\">\n",
       "  <thead>\n",
       "    <tr style=\"text-align: right;\">\n",
       "      <th></th>\n",
       "      <th>KFold</th>\n",
       "    </tr>\n",
       "  </thead>\n",
       "  <tbody>\n",
       "    <tr>\n",
       "      <th>2</th>\n",
       "      <td>4</td>\n",
       "    </tr>\n",
       "    <tr>\n",
       "      <th>5</th>\n",
       "      <td>4</td>\n",
       "    </tr>\n",
       "    <tr>\n",
       "      <th>13</th>\n",
       "      <td>4</td>\n",
       "    </tr>\n",
       "    <tr>\n",
       "      <th>15</th>\n",
       "      <td>4</td>\n",
       "    </tr>\n",
       "    <tr>\n",
       "      <th>18</th>\n",
       "      <td>4</td>\n",
       "    </tr>\n",
       "    <tr>\n",
       "      <th>...</th>\n",
       "      <td>...</td>\n",
       "    </tr>\n",
       "    <tr>\n",
       "      <th>299978</th>\n",
       "      <td>4</td>\n",
       "    </tr>\n",
       "    <tr>\n",
       "      <th>299981</th>\n",
       "      <td>4</td>\n",
       "    </tr>\n",
       "    <tr>\n",
       "      <th>299990</th>\n",
       "      <td>4</td>\n",
       "    </tr>\n",
       "    <tr>\n",
       "      <th>299993</th>\n",
       "      <td>4</td>\n",
       "    </tr>\n",
       "    <tr>\n",
       "      <th>299995</th>\n",
       "      <td>4</td>\n",
       "    </tr>\n",
       "  </tbody>\n",
       "</table>\n",
       "<p>60000 rows × 1 columns</p>\n",
       "</div>"
      ],
      "text/plain": [
       "        KFold\n",
       "2           4\n",
       "5           4\n",
       "13          4\n",
       "15          4\n",
       "18          4\n",
       "...       ...\n",
       "299978      4\n",
       "299981      4\n",
       "299990      4\n",
       "299993      4\n",
       "299995      4\n",
       "\n",
       "[60000 rows x 1 columns]"
      ]
     },
     "execution_count": 8,
     "metadata": {},
     "output_type": "execute_result"
    }
   ],
   "source": [
    "df_train.loc[valid_indicies, [\"KFold\"]]"
   ]
  },
  {
   "cell_type": "code",
   "execution_count": 9,
   "id": "5d36d266",
   "metadata": {
    "execution": {
     "iopub.execute_input": "2021-08-18T10:38:04.576815Z",
     "iopub.status.busy": "2021-08-18T10:38:04.575942Z",
     "iopub.status.idle": "2021-08-18T10:38:04.579858Z",
     "shell.execute_reply": "2021-08-18T10:38:04.580297Z",
     "shell.execute_reply.started": "2021-08-18T10:37:25.181359Z"
    },
    "papermill": {
     "duration": 0.017922,
     "end_time": "2021-08-18T10:38:04.580463",
     "exception": false,
     "start_time": "2021-08-18T10:38:04.562541",
     "status": "completed"
    },
    "tags": []
   },
   "outputs": [
    {
     "data": {
      "text/plain": [
       "pandas.core.frame.DataFrame"
      ]
     },
     "execution_count": 9,
     "metadata": {},
     "output_type": "execute_result"
    }
   ],
   "source": [
    "type(df_train)"
   ]
  },
  {
   "cell_type": "code",
   "execution_count": 10,
   "id": "7955584d",
   "metadata": {
    "execution": {
     "iopub.execute_input": "2021-08-18T10:38:04.604775Z",
     "iopub.status.busy": "2021-08-18T10:38:04.604051Z",
     "iopub.status.idle": "2021-08-18T10:38:04.623456Z",
     "shell.execute_reply": "2021-08-18T10:38:04.623882Z",
     "shell.execute_reply.started": "2021-08-18T10:37:25.186304Z"
    },
    "papermill": {
     "duration": 0.034157,
     "end_time": "2021-08-18T10:38:04.624051",
     "exception": false,
     "start_time": "2021-08-18T10:38:04.589894",
     "status": "completed"
    },
    "tags": []
   },
   "outputs": [
    {
     "name": "stdout",
     "output_type": "stream",
     "text": [
      "<class 'pandas.core.series.Series'>\n"
     ]
    }
   ],
   "source": [
    "print(type(df_train.KFold == 4))"
   ]
  },
  {
   "cell_type": "code",
   "execution_count": 11,
   "id": "8d48da96",
   "metadata": {
    "execution": {
     "iopub.execute_input": "2021-08-18T10:38:04.646861Z",
     "iopub.status.busy": "2021-08-18T10:38:04.646265Z",
     "iopub.status.idle": "2021-08-18T10:38:11.598164Z",
     "shell.execute_reply": "2021-08-18T10:38:11.598662Z",
     "shell.execute_reply.started": "2021-08-18T10:37:25.199606Z"
    },
    "papermill": {
     "duration": 6.964793,
     "end_time": "2021-08-18T10:38:11.598827",
     "exception": false,
     "start_time": "2021-08-18T10:38:04.634034",
     "status": "completed"
    },
    "tags": []
   },
   "outputs": [],
   "source": [
    "df_train.to_csv('train_folds.csv', index = False)"
   ]
  }
 ],
 "metadata": {
  "kernelspec": {
   "display_name": "Python 3",
   "language": "python",
   "name": "python3"
  },
  "language_info": {
   "codemirror_mode": {
    "name": "ipython",
    "version": 3
   },
   "file_extension": ".py",
   "mimetype": "text/x-python",
   "name": "python",
   "nbconvert_exporter": "python",
   "pygments_lexer": "ipython3",
   "version": "3.7.10"
  },
  "papermill": {
   "default_parameters": {},
   "duration": 19.325142,
   "end_time": "2021-08-18T10:38:12.318138",
   "environment_variables": {},
   "exception": null,
   "input_path": "__notebook__.ipynb",
   "output_path": "__notebook__.ipynb",
   "parameters": {},
   "start_time": "2021-08-18T10:37:52.992996",
   "version": "2.3.3"
  }
 },
 "nbformat": 4,
 "nbformat_minor": 5
}
