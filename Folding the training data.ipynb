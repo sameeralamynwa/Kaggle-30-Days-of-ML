{
 "cells": [
  {
   "cell_type": "code",
   "execution_count": 1,
   "id": "58b8160e",
   "metadata": {
    "_cell_guid": "b1076dfc-b9ad-4769-8c92-a6c4dae69d19",
    "_uuid": "8f2839f25d086af736a60e9eeb907d3b93b6e0e5",
    "execution": {
     "iopub.execute_input": "2021-08-17T16:46:38.920431Z",
     "iopub.status.busy": "2021-08-17T16:46:38.919098Z",
     "iopub.status.idle": "2021-08-17T16:46:40.179457Z",
     "shell.execute_reply": "2021-08-17T16:46:40.178530Z",
     "shell.execute_reply.started": "2021-08-17T16:16:13.749224Z"
    },
    "papermill": {
     "duration": 1.276772,
     "end_time": "2021-08-17T16:46:40.179682",
     "exception": false,
     "start_time": "2021-08-17T16:46:38.902910",
     "status": "completed"
    },
    "tags": []
   },
   "outputs": [],
   "source": [
    "import numpy as np\n",
    "import pandas as pd\n",
    "from sklearn import model_selection"
   ]
  },
  {
   "cell_type": "code",
   "execution_count": 2,
   "id": "f6845409",
   "metadata": {
    "execution": {
     "iopub.execute_input": "2021-08-17T16:46:40.213288Z",
     "iopub.status.busy": "2021-08-17T16:46:40.212560Z",
     "iopub.status.idle": "2021-08-17T16:46:43.787925Z",
     "shell.execute_reply": "2021-08-17T16:46:43.787319Z",
     "shell.execute_reply.started": "2021-08-17T16:16:14.063867Z"
    },
    "papermill": {
     "duration": 3.592974,
     "end_time": "2021-08-17T16:46:43.788134",
     "exception": false,
     "start_time": "2021-08-17T16:46:40.195160",
     "status": "completed"
    },
    "tags": []
   },
   "outputs": [],
   "source": [
    "df_train = pd.read_csv('../input/30-days-of-ml/train.csv')"
   ]
  },
  {
   "cell_type": "code",
   "execution_count": 3,
   "id": "30ef4d52",
   "metadata": {
    "execution": {
     "iopub.execute_input": "2021-08-17T16:46:43.821317Z",
     "iopub.status.busy": "2021-08-17T16:46:43.820528Z",
     "iopub.status.idle": "2021-08-17T16:46:43.829495Z",
     "shell.execute_reply": "2021-08-17T16:46:43.828716Z",
     "shell.execute_reply.started": "2021-08-17T16:25:16.484555Z"
    },
    "papermill": {
     "duration": 0.030105,
     "end_time": "2021-08-17T16:46:43.829664",
     "exception": false,
     "start_time": "2021-08-17T16:46:43.799559",
     "status": "completed"
    },
    "tags": []
   },
   "outputs": [],
   "source": [
    "df_train[\"KFold\"] = -1;"
   ]
  },
  {
   "cell_type": "code",
   "execution_count": 4,
   "id": "f1c06aee",
   "metadata": {
    "execution": {
     "iopub.execute_input": "2021-08-17T16:46:43.867076Z",
     "iopub.status.busy": "2021-08-17T16:46:43.865978Z",
     "iopub.status.idle": "2021-08-17T16:46:43.901469Z",
     "shell.execute_reply": "2021-08-17T16:46:43.902069Z",
     "shell.execute_reply.started": "2021-08-17T16:25:19.870094Z"
    },
    "papermill": {
     "duration": 0.06139,
     "end_time": "2021-08-17T16:46:43.902307",
     "exception": false,
     "start_time": "2021-08-17T16:46:43.840917",
     "status": "completed"
    },
    "tags": []
   },
   "outputs": [
    {
     "data": {
      "text/html": [
       "<div>\n",
       "<style scoped>\n",
       "    .dataframe tbody tr th:only-of-type {\n",
       "        vertical-align: middle;\n",
       "    }\n",
       "\n",
       "    .dataframe tbody tr th {\n",
       "        vertical-align: top;\n",
       "    }\n",
       "\n",
       "    .dataframe thead th {\n",
       "        text-align: right;\n",
       "    }\n",
       "</style>\n",
       "<table border=\"1\" class=\"dataframe\">\n",
       "  <thead>\n",
       "    <tr style=\"text-align: right;\">\n",
       "      <th></th>\n",
       "      <th>id</th>\n",
       "      <th>cat0</th>\n",
       "      <th>cat1</th>\n",
       "      <th>cat2</th>\n",
       "      <th>cat3</th>\n",
       "      <th>cat4</th>\n",
       "      <th>cat5</th>\n",
       "      <th>cat6</th>\n",
       "      <th>cat7</th>\n",
       "      <th>cat8</th>\n",
       "      <th>...</th>\n",
       "      <th>cont6</th>\n",
       "      <th>cont7</th>\n",
       "      <th>cont8</th>\n",
       "      <th>cont9</th>\n",
       "      <th>cont10</th>\n",
       "      <th>cont11</th>\n",
       "      <th>cont12</th>\n",
       "      <th>cont13</th>\n",
       "      <th>target</th>\n",
       "      <th>KFold</th>\n",
       "    </tr>\n",
       "  </thead>\n",
       "  <tbody>\n",
       "    <tr>\n",
       "      <th>0</th>\n",
       "      <td>1</td>\n",
       "      <td>B</td>\n",
       "      <td>B</td>\n",
       "      <td>B</td>\n",
       "      <td>C</td>\n",
       "      <td>B</td>\n",
       "      <td>B</td>\n",
       "      <td>A</td>\n",
       "      <td>E</td>\n",
       "      <td>C</td>\n",
       "      <td>...</td>\n",
       "      <td>0.160266</td>\n",
       "      <td>0.310921</td>\n",
       "      <td>0.389470</td>\n",
       "      <td>0.267559</td>\n",
       "      <td>0.237281</td>\n",
       "      <td>0.377873</td>\n",
       "      <td>0.322401</td>\n",
       "      <td>0.869850</td>\n",
       "      <td>8.113634</td>\n",
       "      <td>-1</td>\n",
       "    </tr>\n",
       "    <tr>\n",
       "      <th>1</th>\n",
       "      <td>2</td>\n",
       "      <td>B</td>\n",
       "      <td>B</td>\n",
       "      <td>A</td>\n",
       "      <td>A</td>\n",
       "      <td>B</td>\n",
       "      <td>D</td>\n",
       "      <td>A</td>\n",
       "      <td>F</td>\n",
       "      <td>A</td>\n",
       "      <td>...</td>\n",
       "      <td>0.558922</td>\n",
       "      <td>0.516294</td>\n",
       "      <td>0.594928</td>\n",
       "      <td>0.341439</td>\n",
       "      <td>0.906013</td>\n",
       "      <td>0.921701</td>\n",
       "      <td>0.261975</td>\n",
       "      <td>0.465083</td>\n",
       "      <td>8.481233</td>\n",
       "      <td>-1</td>\n",
       "    </tr>\n",
       "    <tr>\n",
       "      <th>2</th>\n",
       "      <td>3</td>\n",
       "      <td>A</td>\n",
       "      <td>A</td>\n",
       "      <td>A</td>\n",
       "      <td>C</td>\n",
       "      <td>B</td>\n",
       "      <td>D</td>\n",
       "      <td>A</td>\n",
       "      <td>D</td>\n",
       "      <td>A</td>\n",
       "      <td>...</td>\n",
       "      <td>0.375348</td>\n",
       "      <td>0.902567</td>\n",
       "      <td>0.555205</td>\n",
       "      <td>0.843531</td>\n",
       "      <td>0.748809</td>\n",
       "      <td>0.620126</td>\n",
       "      <td>0.541474</td>\n",
       "      <td>0.763846</td>\n",
       "      <td>8.364351</td>\n",
       "      <td>-1</td>\n",
       "    </tr>\n",
       "    <tr>\n",
       "      <th>3</th>\n",
       "      <td>4</td>\n",
       "      <td>B</td>\n",
       "      <td>B</td>\n",
       "      <td>A</td>\n",
       "      <td>C</td>\n",
       "      <td>B</td>\n",
       "      <td>D</td>\n",
       "      <td>A</td>\n",
       "      <td>E</td>\n",
       "      <td>C</td>\n",
       "      <td>...</td>\n",
       "      <td>0.239061</td>\n",
       "      <td>0.732948</td>\n",
       "      <td>0.679618</td>\n",
       "      <td>0.574844</td>\n",
       "      <td>0.346010</td>\n",
       "      <td>0.714610</td>\n",
       "      <td>0.540150</td>\n",
       "      <td>0.280682</td>\n",
       "      <td>8.049253</td>\n",
       "      <td>-1</td>\n",
       "    </tr>\n",
       "    <tr>\n",
       "      <th>4</th>\n",
       "      <td>6</td>\n",
       "      <td>A</td>\n",
       "      <td>A</td>\n",
       "      <td>A</td>\n",
       "      <td>C</td>\n",
       "      <td>B</td>\n",
       "      <td>D</td>\n",
       "      <td>A</td>\n",
       "      <td>E</td>\n",
       "      <td>A</td>\n",
       "      <td>...</td>\n",
       "      <td>0.420667</td>\n",
       "      <td>0.648182</td>\n",
       "      <td>0.684501</td>\n",
       "      <td>0.956692</td>\n",
       "      <td>1.000773</td>\n",
       "      <td>0.776742</td>\n",
       "      <td>0.625849</td>\n",
       "      <td>0.250823</td>\n",
       "      <td>7.972260</td>\n",
       "      <td>-1</td>\n",
       "    </tr>\n",
       "  </tbody>\n",
       "</table>\n",
       "<p>5 rows × 27 columns</p>\n",
       "</div>"
      ],
      "text/plain": [
       "   id cat0 cat1 cat2 cat3 cat4 cat5 cat6 cat7 cat8  ...     cont6     cont7  \\\n",
       "0   1    B    B    B    C    B    B    A    E    C  ...  0.160266  0.310921   \n",
       "1   2    B    B    A    A    B    D    A    F    A  ...  0.558922  0.516294   \n",
       "2   3    A    A    A    C    B    D    A    D    A  ...  0.375348  0.902567   \n",
       "3   4    B    B    A    C    B    D    A    E    C  ...  0.239061  0.732948   \n",
       "4   6    A    A    A    C    B    D    A    E    A  ...  0.420667  0.648182   \n",
       "\n",
       "      cont8     cont9    cont10    cont11    cont12    cont13    target  KFold  \n",
       "0  0.389470  0.267559  0.237281  0.377873  0.322401  0.869850  8.113634     -1  \n",
       "1  0.594928  0.341439  0.906013  0.921701  0.261975  0.465083  8.481233     -1  \n",
       "2  0.555205  0.843531  0.748809  0.620126  0.541474  0.763846  8.364351     -1  \n",
       "3  0.679618  0.574844  0.346010  0.714610  0.540150  0.280682  8.049253     -1  \n",
       "4  0.684501  0.956692  1.000773  0.776742  0.625849  0.250823  7.972260     -1  \n",
       "\n",
       "[5 rows x 27 columns]"
      ]
     },
     "execution_count": 4,
     "metadata": {},
     "output_type": "execute_result"
    }
   ],
   "source": [
    "df_train.head()"
   ]
  },
  {
   "cell_type": "code",
   "execution_count": 5,
   "id": "3245a473",
   "metadata": {
    "execution": {
     "iopub.execute_input": "2021-08-17T16:46:43.935419Z",
     "iopub.status.busy": "2021-08-17T16:46:43.934350Z",
     "iopub.status.idle": "2021-08-17T16:46:43.937855Z",
     "shell.execute_reply": "2021-08-17T16:46:43.937245Z",
     "shell.execute_reply.started": "2021-08-17T16:26:07.817436Z"
    },
    "papermill": {
     "duration": 0.022478,
     "end_time": "2021-08-17T16:46:43.938040",
     "exception": false,
     "start_time": "2021-08-17T16:46:43.915562",
     "status": "completed"
    },
    "tags": []
   },
   "outputs": [],
   "source": [
    "kf = model_selection.KFold(n_splits = 5, shuffle = True, random_state = 42)"
   ]
  },
  {
   "cell_type": "code",
   "execution_count": 6,
   "id": "26387472",
   "metadata": {
    "execution": {
     "iopub.execute_input": "2021-08-17T16:46:43.968516Z",
     "iopub.status.busy": "2021-08-17T16:46:43.967709Z",
     "iopub.status.idle": "2021-08-17T16:46:44.037669Z",
     "shell.execute_reply": "2021-08-17T16:46:44.036800Z",
     "shell.execute_reply.started": "2021-08-17T16:31:04.077338Z"
    },
    "papermill": {
     "duration": 0.087725,
     "end_time": "2021-08-17T16:46:44.037861",
     "exception": false,
     "start_time": "2021-08-17T16:46:43.950136",
     "status": "completed"
    },
    "tags": []
   },
   "outputs": [],
   "source": [
    " for fold, (train_indicies, valid_indicies) in enumerate (kf.split(df_train)):\n",
    "#         print(fold, train_indicies, valid_indicies)\n",
    "        df_train.loc[valid_indicies, \"KFold\"] = fold"
   ]
  },
  {
   "cell_type": "code",
   "execution_count": 7,
   "id": "65eebd65",
   "metadata": {
    "execution": {
     "iopub.execute_input": "2021-08-17T16:46:44.067952Z",
     "iopub.status.busy": "2021-08-17T16:46:44.067147Z",
     "iopub.status.idle": "2021-08-17T16:46:44.083207Z",
     "shell.execute_reply": "2021-08-17T16:46:44.082555Z",
     "shell.execute_reply.started": "2021-08-17T16:36:45.919966Z"
    },
    "papermill": {
     "duration": 0.033551,
     "end_time": "2021-08-17T16:46:44.083397",
     "exception": false,
     "start_time": "2021-08-17T16:46:44.049846",
     "status": "completed"
    },
    "tags": []
   },
   "outputs": [
    {
     "data": {
      "text/plain": [
       "pandas.core.frame.DataFrame"
      ]
     },
     "execution_count": 7,
     "metadata": {},
     "output_type": "execute_result"
    }
   ],
   "source": [
    "type(df_train.loc[valid_indicies, [\"KFold\"]])"
   ]
  },
  {
   "cell_type": "code",
   "execution_count": 8,
   "id": "404d27d2",
   "metadata": {
    "execution": {
     "iopub.execute_input": "2021-08-17T16:46:44.115641Z",
     "iopub.status.busy": "2021-08-17T16:46:44.114504Z",
     "iopub.status.idle": "2021-08-17T16:46:44.117759Z",
     "shell.execute_reply": "2021-08-17T16:46:44.118251Z",
     "shell.execute_reply.started": "2021-08-17T16:32:40.798104Z"
    },
    "papermill": {
     "duration": 0.022237,
     "end_time": "2021-08-17T16:46:44.118473",
     "exception": false,
     "start_time": "2021-08-17T16:46:44.096236",
     "status": "completed"
    },
    "tags": []
   },
   "outputs": [
    {
     "data": {
      "text/plain": [
       "array([     2,      5,     13, ..., 299990, 299993, 299995])"
      ]
     },
     "execution_count": 8,
     "metadata": {},
     "output_type": "execute_result"
    }
   ],
   "source": [
    "valid_indicies"
   ]
  },
  {
   "cell_type": "code",
   "execution_count": 9,
   "id": "163feee2",
   "metadata": {
    "execution": {
     "iopub.execute_input": "2021-08-17T16:46:44.151320Z",
     "iopub.status.busy": "2021-08-17T16:46:44.150546Z",
     "iopub.status.idle": "2021-08-17T16:46:44.168339Z",
     "shell.execute_reply": "2021-08-17T16:46:44.167609Z",
     "shell.execute_reply.started": "2021-08-17T16:37:04.121290Z"
    },
    "papermill": {
     "duration": 0.037327,
     "end_time": "2021-08-17T16:46:44.168527",
     "exception": false,
     "start_time": "2021-08-17T16:46:44.131200",
     "status": "completed"
    },
    "tags": []
   },
   "outputs": [
    {
     "data": {
      "text/html": [
       "<div>\n",
       "<style scoped>\n",
       "    .dataframe tbody tr th:only-of-type {\n",
       "        vertical-align: middle;\n",
       "    }\n",
       "\n",
       "    .dataframe tbody tr th {\n",
       "        vertical-align: top;\n",
       "    }\n",
       "\n",
       "    .dataframe thead th {\n",
       "        text-align: right;\n",
       "    }\n",
       "</style>\n",
       "<table border=\"1\" class=\"dataframe\">\n",
       "  <thead>\n",
       "    <tr style=\"text-align: right;\">\n",
       "      <th></th>\n",
       "      <th>KFold</th>\n",
       "    </tr>\n",
       "  </thead>\n",
       "  <tbody>\n",
       "    <tr>\n",
       "      <th>2</th>\n",
       "      <td>4</td>\n",
       "    </tr>\n",
       "    <tr>\n",
       "      <th>5</th>\n",
       "      <td>4</td>\n",
       "    </tr>\n",
       "    <tr>\n",
       "      <th>13</th>\n",
       "      <td>4</td>\n",
       "    </tr>\n",
       "    <tr>\n",
       "      <th>15</th>\n",
       "      <td>4</td>\n",
       "    </tr>\n",
       "    <tr>\n",
       "      <th>18</th>\n",
       "      <td>4</td>\n",
       "    </tr>\n",
       "    <tr>\n",
       "      <th>...</th>\n",
       "      <td>...</td>\n",
       "    </tr>\n",
       "    <tr>\n",
       "      <th>299978</th>\n",
       "      <td>4</td>\n",
       "    </tr>\n",
       "    <tr>\n",
       "      <th>299981</th>\n",
       "      <td>4</td>\n",
       "    </tr>\n",
       "    <tr>\n",
       "      <th>299990</th>\n",
       "      <td>4</td>\n",
       "    </tr>\n",
       "    <tr>\n",
       "      <th>299993</th>\n",
       "      <td>4</td>\n",
       "    </tr>\n",
       "    <tr>\n",
       "      <th>299995</th>\n",
       "      <td>4</td>\n",
       "    </tr>\n",
       "  </tbody>\n",
       "</table>\n",
       "<p>60000 rows × 1 columns</p>\n",
       "</div>"
      ],
      "text/plain": [
       "        KFold\n",
       "2           4\n",
       "5           4\n",
       "13          4\n",
       "15          4\n",
       "18          4\n",
       "...       ...\n",
       "299978      4\n",
       "299981      4\n",
       "299990      4\n",
       "299993      4\n",
       "299995      4\n",
       "\n",
       "[60000 rows x 1 columns]"
      ]
     },
     "execution_count": 9,
     "metadata": {},
     "output_type": "execute_result"
    }
   ],
   "source": [
    "df_train.loc[valid_indicies, [\"KFold\"]]"
   ]
  },
  {
   "cell_type": "code",
   "execution_count": 10,
   "id": "357534c6",
   "metadata": {
    "execution": {
     "iopub.execute_input": "2021-08-17T16:46:44.199007Z",
     "iopub.status.busy": "2021-08-17T16:46:44.197966Z",
     "iopub.status.idle": "2021-08-17T16:46:44.204286Z",
     "shell.execute_reply": "2021-08-17T16:46:44.204882Z",
     "shell.execute_reply.started": "2021-08-17T16:42:18.211719Z"
    },
    "papermill": {
     "duration": 0.023339,
     "end_time": "2021-08-17T16:46:44.205088",
     "exception": false,
     "start_time": "2021-08-17T16:46:44.181749",
     "status": "completed"
    },
    "tags": []
   },
   "outputs": [
    {
     "data": {
      "text/plain": [
       "pandas.core.frame.DataFrame"
      ]
     },
     "execution_count": 10,
     "metadata": {},
     "output_type": "execute_result"
    }
   ],
   "source": [
    "type(df_train)"
   ]
  },
  {
   "cell_type": "code",
   "execution_count": 11,
   "id": "785649b8",
   "metadata": {
    "execution": {
     "iopub.execute_input": "2021-08-17T16:46:44.238675Z",
     "iopub.status.busy": "2021-08-17T16:46:44.237844Z",
     "iopub.status.idle": "2021-08-17T16:46:44.262728Z",
     "shell.execute_reply": "2021-08-17T16:46:44.263244Z",
     "shell.execute_reply.started": "2021-08-17T16:42:00.952206Z"
    },
    "papermill": {
     "duration": 0.04498,
     "end_time": "2021-08-17T16:46:44.263476",
     "exception": false,
     "start_time": "2021-08-17T16:46:44.218496",
     "status": "completed"
    },
    "tags": []
   },
   "outputs": [
    {
     "name": "stdout",
     "output_type": "stream",
     "text": [
      "<class 'pandas.core.series.Series'>\n"
     ]
    }
   ],
   "source": [
    "print(type(df_train.KFold == 4))"
   ]
  },
  {
   "cell_type": "code",
   "execution_count": 12,
   "id": "dd55b5a7",
   "metadata": {
    "execution": {
     "iopub.execute_input": "2021-08-17T16:46:44.295600Z",
     "iopub.status.busy": "2021-08-17T16:46:44.294833Z",
     "iopub.status.idle": "2021-08-17T16:46:55.071497Z",
     "shell.execute_reply": "2021-08-17T16:46:55.070755Z",
     "shell.execute_reply.started": "2021-08-17T16:45:16.132464Z"
    },
    "papermill": {
     "duration": 10.794206,
     "end_time": "2021-08-17T16:46:55.071679",
     "exception": false,
     "start_time": "2021-08-17T16:46:44.277473",
     "status": "completed"
    },
    "tags": []
   },
   "outputs": [],
   "source": [
    "df_train.to_csv('train_folds.csv', index = False)"
   ]
  }
 ],
 "metadata": {
  "kernelspec": {
   "display_name": "Python 3",
   "language": "python",
   "name": "python3"
  },
  "language_info": {
   "codemirror_mode": {
    "name": "ipython",
    "version": 3
   },
   "file_extension": ".py",
   "mimetype": "text/x-python",
   "name": "python",
   "nbconvert_exporter": "python",
   "pygments_lexer": "ipython3",
   "version": "3.7.10"
  },
  "papermill": {
   "default_parameters": {},
   "duration": 27.918911,
   "end_time": "2021-08-17T16:46:56.706242",
   "environment_variables": {},
   "exception": null,
   "input_path": "__notebook__.ipynb",
   "output_path": "__notebook__.ipynb",
   "parameters": {},
   "start_time": "2021-08-17T16:46:28.787331",
   "version": "2.3.3"
  }
 },
 "nbformat": 4,
 "nbformat_minor": 5
}
