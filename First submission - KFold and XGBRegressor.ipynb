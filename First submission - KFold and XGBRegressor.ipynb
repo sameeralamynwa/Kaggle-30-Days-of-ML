{
 "cells": [
  {
   "cell_type": "code",
   "execution_count": 1,
   "id": "2fd8b7cc",
   "metadata": {
    "_cell_guid": "b1076dfc-b9ad-4769-8c92-a6c4dae69d19",
    "_uuid": "8f2839f25d086af736a60e9eeb907d3b93b6e0e5",
    "execution": {
     "iopub.execute_input": "2021-08-18T11:25:05.417565Z",
     "iopub.status.busy": "2021-08-18T11:25:05.416818Z",
     "iopub.status.idle": "2021-08-18T11:25:06.481446Z",
     "shell.execute_reply": "2021-08-18T11:25:06.482313Z",
     "shell.execute_reply.started": "2021-08-18T11:23:12.947095Z"
    },
    "papermill": {
     "duration": 1.090641,
     "end_time": "2021-08-18T11:25:06.482731",
     "exception": false,
     "start_time": "2021-08-18T11:25:05.392090",
     "status": "completed"
    },
    "tags": []
   },
   "outputs": [],
   "source": [
    "import pandas as pd\n",
    "import numpy as np\n",
    "from sklearn.preprocessing import OrdinalEncoder\n",
    "from sklearn.model_selection import train_test_split\n",
    "from sklearn.ensemble import RandomForestRegressor\n",
    "from sklearn.metrics import mean_squared_error\n",
    "from xgboost import XGBRegressor"
   ]
  },
  {
   "cell_type": "code",
   "execution_count": 2,
   "id": "0fc70cf5",
   "metadata": {
    "execution": {
     "iopub.execute_input": "2021-08-18T11:25:06.523825Z",
     "iopub.status.busy": "2021-08-18T11:25:06.522875Z",
     "iopub.status.idle": "2021-08-18T11:25:10.808843Z",
     "shell.execute_reply": "2021-08-18T11:25:10.807417Z",
     "shell.execute_reply.started": "2021-08-18T11:23:15.117893Z"
    },
    "papermill": {
     "duration": 4.309637,
     "end_time": "2021-08-18T11:25:10.809009",
     "exception": false,
     "start_time": "2021-08-18T11:25:06.499372",
     "status": "completed"
    },
    "tags": []
   },
   "outputs": [],
   "source": [
    "df = pd.read_csv('../input/30-days-folds/train_folds.csv')\n",
    "df_test = pd.read_csv('../input/30-days-of-ml/test.csv')\n",
    "sample_submission = pd.read_csv('../input/30-days-of-ml/sample_submission.csv')"
   ]
  },
  {
   "cell_type": "code",
   "execution_count": 3,
   "id": "73215f4b",
   "metadata": {
    "execution": {
     "iopub.execute_input": "2021-08-18T11:25:10.841738Z",
     "iopub.status.busy": "2021-08-18T11:25:10.840879Z",
     "iopub.status.idle": "2021-08-18T11:25:10.858425Z",
     "shell.execute_reply": "2021-08-18T11:25:10.859021Z",
     "shell.execute_reply.started": "2021-08-18T11:23:19.340091Z"
    },
    "papermill": {
     "duration": 0.039168,
     "end_time": "2021-08-18T11:25:10.859201",
     "exception": false,
     "start_time": "2021-08-18T11:25:10.820033",
     "status": "completed"
    },
    "tags": []
   },
   "outputs": [
    {
     "data": {
      "text/html": [
       "<div>\n",
       "<style scoped>\n",
       "    .dataframe tbody tr th:only-of-type {\n",
       "        vertical-align: middle;\n",
       "    }\n",
       "\n",
       "    .dataframe tbody tr th {\n",
       "        vertical-align: top;\n",
       "    }\n",
       "\n",
       "    .dataframe thead th {\n",
       "        text-align: right;\n",
       "    }\n",
       "</style>\n",
       "<table border=\"1\" class=\"dataframe\">\n",
       "  <thead>\n",
       "    <tr style=\"text-align: right;\">\n",
       "      <th></th>\n",
       "      <th>id</th>\n",
       "      <th>target</th>\n",
       "    </tr>\n",
       "  </thead>\n",
       "  <tbody>\n",
       "    <tr>\n",
       "      <th>0</th>\n",
       "      <td>0</td>\n",
       "      <td>0.5</td>\n",
       "    </tr>\n",
       "    <tr>\n",
       "      <th>1</th>\n",
       "      <td>5</td>\n",
       "      <td>0.5</td>\n",
       "    </tr>\n",
       "    <tr>\n",
       "      <th>2</th>\n",
       "      <td>15</td>\n",
       "      <td>0.5</td>\n",
       "    </tr>\n",
       "    <tr>\n",
       "      <th>3</th>\n",
       "      <td>16</td>\n",
       "      <td>0.5</td>\n",
       "    </tr>\n",
       "    <tr>\n",
       "      <th>4</th>\n",
       "      <td>17</td>\n",
       "      <td>0.5</td>\n",
       "    </tr>\n",
       "  </tbody>\n",
       "</table>\n",
       "</div>"
      ],
      "text/plain": [
       "   id  target\n",
       "0   0     0.5\n",
       "1   5     0.5\n",
       "2  15     0.5\n",
       "3  16     0.5\n",
       "4  17     0.5"
      ]
     },
     "execution_count": 3,
     "metadata": {},
     "output_type": "execute_result"
    }
   ],
   "source": [
    "sample_submission.head()"
   ]
  },
  {
   "cell_type": "code",
   "execution_count": 4,
   "id": "389cdcb1",
   "metadata": {
    "execution": {
     "iopub.execute_input": "2021-08-18T11:25:10.924534Z",
     "iopub.status.busy": "2021-08-18T11:25:10.918600Z",
     "iopub.status.idle": "2021-08-18T11:25:10.927483Z",
     "shell.execute_reply": "2021-08-18T11:25:10.927002Z",
     "shell.execute_reply.started": "2021-08-18T11:23:20.319465Z"
    },
    "papermill": {
     "duration": 0.056323,
     "end_time": "2021-08-18T11:25:10.927624",
     "exception": false,
     "start_time": "2021-08-18T11:25:10.871301",
     "status": "completed"
    },
    "tags": []
   },
   "outputs": [],
   "source": [
    "useful_features = [c for c in df.columns if c not in (\"id\", \"target\", \"KFold\")]\n",
    "object_cols = [col for col in useful_features if 'cat' in col]\n",
    "df_test = df_test[useful_features]"
   ]
  },
  {
   "cell_type": "code",
   "execution_count": 5,
   "id": "454de47e",
   "metadata": {
    "execution": {
     "iopub.execute_input": "2021-08-18T11:25:10.960246Z",
     "iopub.status.busy": "2021-08-18T11:25:10.959442Z",
     "iopub.status.idle": "2021-08-18T11:26:30.336569Z",
     "shell.execute_reply": "2021-08-18T11:26:30.335895Z",
     "shell.execute_reply.started": "2021-08-18T11:23:21.951567Z"
    },
    "papermill": {
     "duration": 79.398164,
     "end_time": "2021-08-18T11:26:30.336757",
     "exception": false,
     "start_time": "2021-08-18T11:25:10.938593",
     "status": "completed"
    },
    "tags": []
   },
   "outputs": [
    {
     "name": "stdout",
     "output_type": "stream",
     "text": [
      "0 0.7247923811142797\n",
      "1 0.7241133589849816\n",
      "2 0.7263524460695452\n",
      "3 0.7263178053613838\n",
      "4 0.7255365896297232\n"
     ]
    }
   ],
   "source": [
    "final_predictions = []\n",
    "\n",
    "for fold in range(5):\n",
    "    xtrain = df[df.KFold != fold].reset_index(drop = True)\n",
    "    xvalid = df[df.KFold == fold].reset_index(drop = True)\n",
    "    xtest = df_test.copy()\n",
    "\n",
    "    ytrain = xtrain.target\n",
    "    yvalid = xvalid.target\n",
    "    \n",
    "    xtrain = xtrain[useful_features]\n",
    "    xvalid = xvalid[useful_features]\n",
    "    \n",
    "    ordinal_encoder = OrdinalEncoder()\n",
    "    xtrain[object_cols] = ordinal_encoder.fit_transform(xtrain[object_cols])\n",
    "    xvalid[object_cols] = ordinal_encoder.transform(xvalid[object_cols])\n",
    "    xtest[object_cols] = ordinal_encoder.transform(xtest[object_cols])\n",
    "    \n",
    "    model = XGBRegressor(learning_rate = 0.01, n_estimators = 1000, random_state = fold, n_jobs = 4, tree_method = 'gpu_hist')\n",
    "    model.fit(xtrain, ytrain, early_stopping_rounds = 10, \n",
    "             eval_set = [(xvalid, yvalid)], verbose = False)\n",
    "    preds_valid = model.predict(xvalid)\n",
    "    test_preds = model.predict(xtest)\n",
    "    final_predictions.append(test_preds)\n",
    "    print(fold, mean_squared_error(yvalid, preds_valid, squared = False))"
   ]
  },
  {
   "cell_type": "code",
   "execution_count": 6,
   "id": "c7ebbb2a",
   "metadata": {
    "execution": {
     "iopub.execute_input": "2021-08-18T11:26:30.368694Z",
     "iopub.status.busy": "2021-08-18T11:26:30.367821Z",
     "iopub.status.idle": "2021-08-18T11:26:30.371531Z",
     "shell.execute_reply": "2021-08-18T11:26:30.372079Z",
     "shell.execute_reply.started": "2021-08-18T11:24:35.060474Z"
    },
    "papermill": {
     "duration": 0.023418,
     "end_time": "2021-08-18T11:26:30.372257",
     "exception": false,
     "start_time": "2021-08-18T11:26:30.348839",
     "status": "completed"
    },
    "tags": []
   },
   "outputs": [
    {
     "data": {
      "text/plain": [
       "[array([8.069618 , 8.256509 , 8.376792 , ..., 8.334432 , 8.085208 ,\n",
       "        8.1107025], dtype=float32),\n",
       " array([8.050384, 8.285192, 8.368636, ..., 8.376536, 8.109329, 8.078075],\n",
       "       dtype=float32),\n",
       " array([7.9667954, 8.284657 , 8.379866 , ..., 8.353053 , 8.117113 ,\n",
       "        8.08416  ], dtype=float32),\n",
       " array([7.966408, 8.28086 , 8.377582, ..., 8.358804, 8.087908, 8.108522],\n",
       "       dtype=float32),\n",
       " array([8.052264, 8.307722, 8.346991, ..., 8.350653, 8.102838, 8.160831],\n",
       "       dtype=float32)]"
      ]
     },
     "execution_count": 6,
     "metadata": {},
     "output_type": "execute_result"
    }
   ],
   "source": [
    "final_predictions"
   ]
  },
  {
   "cell_type": "code",
   "execution_count": 7,
   "id": "5c400835",
   "metadata": {
    "execution": {
     "iopub.execute_input": "2021-08-18T11:26:30.407057Z",
     "iopub.status.busy": "2021-08-18T11:26:30.406168Z",
     "iopub.status.idle": "2021-08-18T11:26:30.411310Z",
     "shell.execute_reply": "2021-08-18T11:26:30.412065Z",
     "shell.execute_reply.started": "2021-08-18T11:24:35.669102Z"
    },
    "papermill": {
     "duration": 0.026776,
     "end_time": "2021-08-18T11:26:30.412320",
     "exception": false,
     "start_time": "2021-08-18T11:26:30.385544",
     "status": "completed"
    },
    "tags": []
   },
   "outputs": [
    {
     "name": "stdout",
     "output_type": "stream",
     "text": [
      "[[1, 2, 5, 9], [4, 8, 6, 12]]\n",
      "[[ 1  4]\n",
      " [ 2  8]\n",
      " [ 5  6]\n",
      " [ 9 12]]\n",
      "[ 5 10 11 21]\n"
     ]
    }
   ],
   "source": [
    "a = [[1, 2, 5, 9], [4, 8, 6, 12]]\n",
    "\n",
    "print(a)\n",
    "print(np.column_stack(a))\n",
    "b = np.column_stack(a)\n",
    "b.shape\n",
    "print(np.sum(b, axis = 1))"
   ]
  },
  {
   "cell_type": "code",
   "execution_count": 8,
   "id": "55224f29",
   "metadata": {
    "execution": {
     "iopub.execute_input": "2021-08-18T11:26:30.444482Z",
     "iopub.status.busy": "2021-08-18T11:26:30.443492Z",
     "iopub.status.idle": "2021-08-18T11:26:30.449845Z",
     "shell.execute_reply": "2021-08-18T11:26:30.449319Z",
     "shell.execute_reply.started": "2021-08-18T11:24:36.449926Z"
    },
    "papermill": {
     "duration": 0.023598,
     "end_time": "2021-08-18T11:26:30.449979",
     "exception": false,
     "start_time": "2021-08-18T11:26:30.426381",
     "status": "completed"
    },
    "tags": []
   },
   "outputs": [
    {
     "data": {
      "text/plain": [
       "(200000, 5)"
      ]
     },
     "execution_count": 8,
     "metadata": {},
     "output_type": "execute_result"
    }
   ],
   "source": [
    "np.column_stack(final_predictions).shape"
   ]
  },
  {
   "cell_type": "code",
   "execution_count": 9,
   "id": "b1955372",
   "metadata": {
    "execution": {
     "iopub.execute_input": "2021-08-18T11:26:30.481413Z",
     "iopub.status.busy": "2021-08-18T11:26:30.480489Z",
     "iopub.status.idle": "2021-08-18T11:26:30.489875Z",
     "shell.execute_reply": "2021-08-18T11:26:30.489317Z",
     "shell.execute_reply.started": "2021-08-18T11:24:37.242744Z"
    },
    "papermill": {
     "duration": 0.027481,
     "end_time": "2021-08-18T11:26:30.490024",
     "exception": false,
     "start_time": "2021-08-18T11:26:30.462543",
     "status": "completed"
    },
    "tags": []
   },
   "outputs": [],
   "source": [
    "predictions_submit = np.mean(np.column_stack(final_predictions), axis = 1)"
   ]
  },
  {
   "cell_type": "code",
   "execution_count": 10,
   "id": "08bfd636",
   "metadata": {
    "execution": {
     "iopub.execute_input": "2021-08-18T11:26:30.521758Z",
     "iopub.status.busy": "2021-08-18T11:26:30.521012Z",
     "iopub.status.idle": "2021-08-18T11:26:31.086910Z",
     "shell.execute_reply": "2021-08-18T11:26:31.086380Z",
     "shell.execute_reply.started": "2021-08-18T11:24:38.468166Z"
    },
    "papermill": {
     "duration": 0.583734,
     "end_time": "2021-08-18T11:26:31.087053",
     "exception": false,
     "start_time": "2021-08-18T11:26:30.503319",
     "status": "completed"
    },
    "tags": []
   },
   "outputs": [],
   "source": [
    "sample_submission.target = predictions_submit\n",
    "sample_submission.to_csv(\"submission.csv\", index = False)"
   ]
  },
  {
   "cell_type": "code",
   "execution_count": 11,
   "id": "ac565f9c",
   "metadata": {
    "execution": {
     "iopub.execute_input": "2021-08-18T11:26:31.127281Z",
     "iopub.status.busy": "2021-08-18T11:26:31.126214Z",
     "iopub.status.idle": "2021-08-18T11:26:31.130694Z",
     "shell.execute_reply": "2021-08-18T11:26:31.131210Z",
     "shell.execute_reply.started": "2021-08-18T11:24:41.030791Z"
    },
    "papermill": {
     "duration": 0.03168,
     "end_time": "2021-08-18T11:26:31.131393",
     "exception": false,
     "start_time": "2021-08-18T11:26:31.099713",
     "status": "completed"
    },
    "tags": []
   },
   "outputs": [
    {
     "data": {
      "text/html": [
       "<div>\n",
       "<style scoped>\n",
       "    .dataframe tbody tr th:only-of-type {\n",
       "        vertical-align: middle;\n",
       "    }\n",
       "\n",
       "    .dataframe tbody tr th {\n",
       "        vertical-align: top;\n",
       "    }\n",
       "\n",
       "    .dataframe thead th {\n",
       "        text-align: right;\n",
       "    }\n",
       "</style>\n",
       "<table border=\"1\" class=\"dataframe\">\n",
       "  <thead>\n",
       "    <tr style=\"text-align: right;\">\n",
       "      <th></th>\n",
       "      <th>id</th>\n",
       "      <th>target</th>\n",
       "    </tr>\n",
       "  </thead>\n",
       "  <tbody>\n",
       "    <tr>\n",
       "      <th>0</th>\n",
       "      <td>0</td>\n",
       "      <td>8.021094</td>\n",
       "    </tr>\n",
       "    <tr>\n",
       "      <th>1</th>\n",
       "      <td>5</td>\n",
       "      <td>8.282988</td>\n",
       "    </tr>\n",
       "    <tr>\n",
       "      <th>2</th>\n",
       "      <td>15</td>\n",
       "      <td>8.369974</td>\n",
       "    </tr>\n",
       "    <tr>\n",
       "      <th>3</th>\n",
       "      <td>16</td>\n",
       "      <td>8.398341</td>\n",
       "    </tr>\n",
       "    <tr>\n",
       "      <th>4</th>\n",
       "      <td>17</td>\n",
       "      <td>8.212493</td>\n",
       "    </tr>\n",
       "    <tr>\n",
       "      <th>...</th>\n",
       "      <td>...</td>\n",
       "      <td>...</td>\n",
       "    </tr>\n",
       "    <tr>\n",
       "      <th>199995</th>\n",
       "      <td>499987</td>\n",
       "      <td>8.138060</td>\n",
       "    </tr>\n",
       "    <tr>\n",
       "      <th>199996</th>\n",
       "      <td>499990</td>\n",
       "      <td>8.356192</td>\n",
       "    </tr>\n",
       "    <tr>\n",
       "      <th>199997</th>\n",
       "      <td>499991</td>\n",
       "      <td>8.354695</td>\n",
       "    </tr>\n",
       "    <tr>\n",
       "      <th>199998</th>\n",
       "      <td>499994</td>\n",
       "      <td>8.100479</td>\n",
       "    </tr>\n",
       "    <tr>\n",
       "      <th>199999</th>\n",
       "      <td>499995</td>\n",
       "      <td>8.108459</td>\n",
       "    </tr>\n",
       "  </tbody>\n",
       "</table>\n",
       "<p>200000 rows × 2 columns</p>\n",
       "</div>"
      ],
      "text/plain": [
       "            id    target\n",
       "0            0  8.021094\n",
       "1            5  8.282988\n",
       "2           15  8.369974\n",
       "3           16  8.398341\n",
       "4           17  8.212493\n",
       "...        ...       ...\n",
       "199995  499987  8.138060\n",
       "199996  499990  8.356192\n",
       "199997  499991  8.354695\n",
       "199998  499994  8.100479\n",
       "199999  499995  8.108459\n",
       "\n",
       "[200000 rows x 2 columns]"
      ]
     },
     "execution_count": 11,
     "metadata": {},
     "output_type": "execute_result"
    }
   ],
   "source": [
    "sample_submission"
   ]
  }
 ],
 "metadata": {
  "kernelspec": {
   "display_name": "Python 3",
   "language": "python",
   "name": "python3"
  },
  "language_info": {
   "codemirror_mode": {
    "name": "ipython",
    "version": 3
   },
   "file_extension": ".py",
   "mimetype": "text/x-python",
   "name": "python",
   "nbconvert_exporter": "python",
   "pygments_lexer": "ipython3",
   "version": "3.7.10"
  },
  "papermill": {
   "default_parameters": {},
   "duration": 94.628689,
   "end_time": "2021-08-18T11:26:33.068591",
   "environment_variables": {},
   "exception": null,
   "input_path": "__notebook__.ipynb",
   "output_path": "__notebook__.ipynb",
   "parameters": {},
   "start_time": "2021-08-18T11:24:58.439902",
   "version": "2.3.3"
  }
 },
 "nbformat": 4,
 "nbformat_minor": 5
}
