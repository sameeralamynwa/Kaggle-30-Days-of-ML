{
 "cells": [
  {
   "cell_type": "code",
   "execution_count": 1,
   "id": "21e5e7ff",
   "metadata": {
    "_cell_guid": "b1076dfc-b9ad-4769-8c92-a6c4dae69d19",
    "_uuid": "8f2839f25d086af736a60e9eeb907d3b93b6e0e5",
    "execution": {
     "iopub.execute_input": "2021-08-26T17:54:38.596985Z",
     "iopub.status.busy": "2021-08-26T17:54:38.595434Z",
     "iopub.status.idle": "2021-08-26T17:54:39.886340Z",
     "shell.execute_reply": "2021-08-26T17:54:39.885747Z",
     "shell.execute_reply.started": "2021-08-26T17:49:49.555738Z"
    },
    "papermill": {
     "duration": 1.300387,
     "end_time": "2021-08-26T17:54:39.886486",
     "exception": false,
     "start_time": "2021-08-26T17:54:38.586099",
     "status": "completed"
    },
    "tags": []
   },
   "outputs": [],
   "source": [
    "import pandas as pd\n",
    "import numpy as np\n",
    "from sklearn import preprocessing\n",
    "from sklearn.model_selection import train_test_split\n",
    "from sklearn.ensemble import RandomForestRegressor\n",
    "from sklearn.metrics import mean_squared_error\n",
    "from xgboost import XGBRegressor"
   ]
  },
  {
   "cell_type": "code",
   "execution_count": 2,
   "id": "c8017494",
   "metadata": {
    "execution": {
     "iopub.execute_input": "2021-08-26T17:54:39.899929Z",
     "iopub.status.busy": "2021-08-26T17:54:39.899356Z",
     "iopub.status.idle": "2021-08-26T17:54:43.548908Z",
     "shell.execute_reply": "2021-08-26T17:54:43.548389Z",
     "shell.execute_reply.started": "2021-08-26T17:49:50.481998Z"
    },
    "papermill": {
     "duration": 3.657717,
     "end_time": "2021-08-26T17:54:43.549039",
     "exception": false,
     "start_time": "2021-08-26T17:54:39.891322",
     "status": "completed"
    },
    "tags": []
   },
   "outputs": [],
   "source": [
    "df = pd.read_csv(\"../input/30-days-folds/train_folds.csv\")\n",
    "df_test = pd.read_csv(\"../input/30-days-of-ml/test.csv\")\n",
    "sample_submission = pd.read_csv(\"../input/30-days-of-ml/sample_submission.csv\")"
   ]
  },
  {
   "cell_type": "code",
   "execution_count": 3,
   "id": "47cb232e",
   "metadata": {
    "execution": {
     "iopub.execute_input": "2021-08-26T17:54:43.601954Z",
     "iopub.status.busy": "2021-08-26T17:54:43.573918Z",
     "iopub.status.idle": "2021-08-26T17:54:50.258360Z",
     "shell.execute_reply": "2021-08-26T17:54:50.257840Z",
     "shell.execute_reply.started": "2021-08-26T17:49:55.566605Z"
    },
    "papermill": {
     "duration": 6.704738,
     "end_time": "2021-08-26T17:54:50.258503",
     "exception": false,
     "start_time": "2021-08-26T17:54:43.553765",
     "status": "completed"
    },
    "tags": []
   },
   "outputs": [],
   "source": [
    "useful_features = [c for c in df.columns if c not in (\"id\", \"target\", \"KFold\")]\n",
    "object_cols = [col for col in useful_features if col.startswith(\"cat\")]\n",
    "df_test = df_test[useful_features]\n",
    "\n",
    "for col in object_cols:\n",
    "    temp_df = []\n",
    "    temp_test_feat = None\n",
    "    for fold in range(5):\n",
    "        xtrain =  df[df.KFold != fold].reset_index(drop = True)\n",
    "        xvalid = df[df.KFold == fold].reset_index(drop = True)\n",
    "        feat = xtrain.groupby(col)[\"target\"].agg(\"mean\")\n",
    "        feat = feat.to_dict()\n",
    "        xvalid.loc[:, f\"tar_enc_{col}\"] = xvalid[col].map(feat)\n",
    "        temp_df.append(xvalid)\n",
    "        if temp_test_feat is None:\n",
    "            temp_test_feat = df_test[col].map(feat)\n",
    "        else:\n",
    "            temp_test_feat += df_test[col].map(feat)\n",
    "    \n",
    "    temp_test_feat /= 5\n",
    "    df_test.loc[:, f\"tar_enc_{col}\"] = temp_test_feat\n",
    "    df = pd.concat(temp_df)\n",
    "    \n",
    "\n",
    "useful_features = [c for c in df.columns if c not in (\"id\", \"target\", \"KFold\")]\n",
    "object_cols = [col for col in useful_features if col.startswith(\"cat\")]\n",
    "df_test = df_test[useful_features]"
   ]
  },
  {
   "cell_type": "code",
   "execution_count": 4,
   "id": "53652d35",
   "metadata": {
    "execution": {
     "iopub.execute_input": "2021-08-26T17:54:50.278938Z",
     "iopub.status.busy": "2021-08-26T17:54:50.277971Z",
     "iopub.status.idle": "2021-08-26T17:55:52.874478Z",
     "shell.execute_reply": "2021-08-26T17:55:52.875342Z",
     "shell.execute_reply.started": "2021-08-26T17:50:02.163695Z"
    },
    "papermill": {
     "duration": 62.612284,
     "end_time": "2021-08-26T17:55:52.875558",
     "exception": false,
     "start_time": "2021-08-26T17:54:50.263274",
     "status": "completed"
    },
    "tags": []
   },
   "outputs": [
    {
     "name": "stdout",
     "output_type": "stream",
     "text": [
      "[0]\tvalidation_0-rmse:7.47264\n",
      "[1000]\tvalidation_0-rmse:0.72025\n",
      "[2000]\tvalidation_0-rmse:0.71828\n",
      "[2788]\tvalidation_0-rmse:0.71805\n",
      "0 0.7180478311483501\n",
      "[0]\tvalidation_0-rmse:7.46937\n",
      "[1000]\tvalidation_0-rmse:0.71963\n",
      "[2000]\tvalidation_0-rmse:0.71794\n",
      "[3000]\tvalidation_0-rmse:0.71760\n",
      "[3417]\tvalidation_0-rmse:0.71763\n",
      "1 0.7175580710337084\n",
      "[0]\tvalidation_0-rmse:7.46714\n",
      "[1000]\tvalidation_0-rmse:0.72134\n",
      "[2000]\tvalidation_0-rmse:0.71971\n",
      "[2932]\tvalidation_0-rmse:0.71955\n",
      "2 0.7194835538799537\n",
      "[0]\tvalidation_0-rmse:7.46936\n",
      "[1000]\tvalidation_0-rmse:0.72245\n",
      "[2000]\tvalidation_0-rmse:0.72161\n",
      "[2144]\tvalidation_0-rmse:0.72164\n",
      "3 0.7213647014312778\n",
      "[0]\tvalidation_0-rmse:7.47614\n",
      "[976]\tvalidation_0-rmse:0.73445\n",
      "4 0.7302060421830056\n",
      "0.7213320399352592 0.004630221419951144\n"
     ]
    }
   ],
   "source": [
    "final_predictions = []\n",
    "scores = []\n",
    "for fold in range(5):\n",
    "    xtrain =  df[df.KFold != fold].reset_index(drop = True)\n",
    "    xvalid = df[df.KFold == fold].reset_index(drop = True)\n",
    "    xtest = df_test.copy()\n",
    "\n",
    "    ytrain = xtrain.target\n",
    "    yvalid = xvalid.target\n",
    "    \n",
    "    xtrain = xtrain[useful_features]\n",
    "    xvalid = xvalid[useful_features]\n",
    "    \n",
    "    ordinal_encoder = preprocessing.OrdinalEncoder()\n",
    "    xtrain[object_cols] = ordinal_encoder.fit_transform(xtrain[object_cols])\n",
    "    xvalid[object_cols] = ordinal_encoder.transform(xvalid[object_cols])\n",
    "    xtest[object_cols] = ordinal_encoder.transform(xtest[object_cols])\n",
    "    \n",
    "    params = {'learning_rate': 0.039875167641537965, 'reg_lambda': 0.0005376678984150986, 'reg_alpha': 0.00551122913583057, 'subsample': 0.8029978365835949, 'colsample_bytree': 0.15088780179864864, 'max_depth': 4}\n",
    "    \n",
    "    model = XGBRegressor(\n",
    "        random_state = 0, \n",
    "        tree_method = 'gpu_hist',\n",
    "        gpu_id = 0,\n",
    "        predictor = \"gpu_predictor\",\n",
    "        n_estimators = 5000,\n",
    "        **params\n",
    "    )\n",
    "    model.fit(xtrain, ytrain, early_stopping_rounds = 300, eval_set=[(xvalid, yvalid)], verbose = 1000)\n",
    "    preds_valid = model.predict(xvalid)\n",
    "    test_preds = model.predict(xtest)\n",
    "    final_predictions.append(test_preds)\n",
    "    rmse = mean_squared_error(yvalid, preds_valid, squared=False)\n",
    "    print(fold, rmse)\n",
    "    scores.append(rmse)\n",
    "\n",
    "print(np.mean(scores), np.std(scores))"
   ]
  },
  {
   "cell_type": "code",
   "execution_count": 5,
   "id": "3141274b",
   "metadata": {
    "execution": {
     "iopub.execute_input": "2021-08-26T17:55:52.902705Z",
     "iopub.status.busy": "2021-08-26T17:55:52.901949Z",
     "iopub.status.idle": "2021-08-26T17:55:53.386248Z",
     "shell.execute_reply": "2021-08-26T17:55:53.385759Z",
     "shell.execute_reply.started": "2021-08-26T17:54:13.920636Z"
    },
    "papermill": {
     "duration": 0.499544,
     "end_time": "2021-08-26T17:55:53.386380",
     "exception": false,
     "start_time": "2021-08-26T17:55:52.886836",
     "status": "completed"
    },
    "tags": []
   },
   "outputs": [],
   "source": [
    "preds = np.mean(np.column_stack(final_predictions), axis = 1)\n",
    "sample_submission.target = preds\n",
    "sample_submission.to_csv(\"submission.csv\", index = False)"
   ]
  }
 ],
 "metadata": {
  "kernelspec": {
   "display_name": "Python 3",
   "language": "python",
   "name": "python3"
  },
  "language_info": {
   "codemirror_mode": {
    "name": "ipython",
    "version": 3
   },
   "file_extension": ".py",
   "mimetype": "text/x-python",
   "name": "python",
   "nbconvert_exporter": "python",
   "pygments_lexer": "ipython3",
   "version": "3.7.10"
  },
  "papermill": {
   "default_parameters": {},
   "duration": 82.229196,
   "end_time": "2021-08-26T17:55:54.004863",
   "environment_variables": {},
   "exception": null,
   "input_path": "__notebook__.ipynb",
   "output_path": "__notebook__.ipynb",
   "parameters": {},
   "start_time": "2021-08-26T17:54:31.775667",
   "version": "2.3.3"
  }
 },
 "nbformat": 4,
 "nbformat_minor": 5
}
