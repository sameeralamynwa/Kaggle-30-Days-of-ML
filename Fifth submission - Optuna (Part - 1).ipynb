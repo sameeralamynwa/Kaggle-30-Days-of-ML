{
 "cells": [
  {
   "cell_type": "code",
   "execution_count": 1,
   "id": "35b29438",
   "metadata": {
    "_cell_guid": "b1076dfc-b9ad-4769-8c92-a6c4dae69d19",
    "_uuid": "8f2839f25d086af736a60e9eeb907d3b93b6e0e5",
    "execution": {
     "iopub.execute_input": "2021-08-26T16:15:46.898819Z",
     "iopub.status.busy": "2021-08-26T16:15:46.898160Z",
     "iopub.status.idle": "2021-08-26T16:15:48.527610Z",
     "shell.execute_reply": "2021-08-26T16:15:48.526566Z",
     "shell.execute_reply.started": "2021-08-26T10:23:28.311287Z"
    },
    "papermill": {
     "duration": 1.647094,
     "end_time": "2021-08-26T16:15:48.527779",
     "exception": false,
     "start_time": "2021-08-26T16:15:46.880685",
     "status": "completed"
    },
    "tags": []
   },
   "outputs": [],
   "source": [
    "import pandas as pd\n",
    "import numpy as np\n",
    "from sklearn import preprocessing\n",
    "from sklearn.metrics import mean_squared_error\n",
    "from xgboost import XGBRegressor\n",
    "import optuna"
   ]
  },
  {
   "cell_type": "code",
   "execution_count": 2,
   "id": "e6a2570d",
   "metadata": {
    "execution": {
     "iopub.execute_input": "2021-08-26T16:15:48.547713Z",
     "iopub.status.busy": "2021-08-26T16:15:48.547170Z",
     "iopub.status.idle": "2021-08-26T16:15:59.029595Z",
     "shell.execute_reply": "2021-08-26T16:15:59.028862Z",
     "shell.execute_reply.started": "2021-08-26T10:23:31.135965Z"
    },
    "papermill": {
     "duration": 10.496494,
     "end_time": "2021-08-26T16:15:59.029737",
     "exception": false,
     "start_time": "2021-08-26T16:15:48.533243",
     "status": "completed"
    },
    "tags": []
   },
   "outputs": [],
   "source": [
    "df = pd.read_csv(\"../input/30-days-folds/train_folds.csv\")\n",
    "df_test = pd.read_csv(\"../input/30-days-of-ml/test.csv\")\n",
    "sample_submission = pd.read_csv(\"../input/30-days-of-ml/sample_submission.csv\")\n",
    "\n",
    "useful_features = [c for c in df.columns if c not in (\"id\", \"target\", \"KFold\")]\n",
    "object_cols = [col for col in useful_features if col.startswith(\"cat\")]\n",
    "df_test = df_test[useful_features]\n",
    "\n",
    "for col in object_cols:\n",
    "    temp_df = []\n",
    "    temp_test_feat = None\n",
    "    for fold in range(5):\n",
    "        xtrain =  df[df.KFold != fold].reset_index(drop = True)\n",
    "        xvalid = df[df.KFold == fold].reset_index(drop = True)\n",
    "        feat = xtrain.groupby(col)[\"target\"].agg(\"mean\")\n",
    "        feat = feat.to_dict()\n",
    "        xvalid.loc[:, f\"tar_enc_{col}\"] = xvalid[col].map(feat)\n",
    "        temp_df.append(xvalid)\n",
    "        if temp_test_feat is None:\n",
    "            temp_test_feat = df_test[col].map(feat)\n",
    "        else:\n",
    "            temp_test_feat += df_test[col].map(feat)\n",
    "    \n",
    "    temp_test_feat /= 5\n",
    "    df_test.loc[:, f\"tar_enc_{col}\"] = temp_test_feat\n",
    "    df = pd.concat(temp_df)\n",
    "    \n",
    "\n",
    "useful_features = [c for c in df.columns if c not in (\"id\", \"target\", \"KFold\")]\n",
    "object_cols = [col for col in useful_features if col.startswith(\"cat\")]\n",
    "df_test = df_test[useful_features]"
   ]
  },
  {
   "cell_type": "code",
   "execution_count": 3,
   "id": "088bbcf7",
   "metadata": {
    "execution": {
     "iopub.execute_input": "2021-08-26T16:15:59.052179Z",
     "iopub.status.busy": "2021-08-26T16:15:59.050450Z",
     "iopub.status.idle": "2021-08-26T16:15:59.052931Z",
     "shell.execute_reply": "2021-08-26T16:15:59.053512Z",
     "shell.execute_reply.started": "2021-08-26T10:24:07.296271Z"
    },
    "papermill": {
     "duration": 0.01814,
     "end_time": "2021-08-26T16:15:59.053650",
     "exception": false,
     "start_time": "2021-08-26T16:15:59.035510",
     "status": "completed"
    },
    "tags": []
   },
   "outputs": [],
   "source": [
    "def run(trial):\n",
    "    fold = 0\n",
    "    learning_rate = trial.suggest_float(\"learning_rate\", 1e-2, 0.25, log = True)\n",
    "    reg_lambda = trial.suggest_loguniform(\"reg_lambda\", 1e-8, 100.0)\n",
    "    reg_alpha = trial.suggest_loguniform(\"reg_alpha\", 1e-8, 100.0)\n",
    "    subsample = trial.suggest_float(\"subsample\", 0.1, 1.0)\n",
    "    colsample_bytree = trial.suggest_float(\"colsample_bytree\", 0.1, 1.0)\n",
    "    max_depth = trial.suggest_int(\"max_depth\", 1, 7)\n",
    "\n",
    "    xtrain = df[df.KFold != fold].reset_index(drop = True)\n",
    "    xvalid = df[df.KFold == fold].reset_index(drop = True)\n",
    "\n",
    "    ytrain = xtrain.target\n",
    "    yvalid = xvalid.target\n",
    "\n",
    "    xtrain = xtrain[useful_features]\n",
    "    xvalid = xvalid[useful_features]\n",
    "\n",
    "    ordinal_encoder = preprocessing.OrdinalEncoder()\n",
    "    xtrain[object_cols] = ordinal_encoder.fit_transform(xtrain[object_cols])\n",
    "    xvalid[object_cols] = ordinal_encoder.transform(xvalid[object_cols])\n",
    "\n",
    "    model = XGBRegressor(\n",
    "        random_state = 42,\n",
    "        tree_method = \"gpu_hist\",\n",
    "        gpu_id = 1,\n",
    "        predictor = \"gpu_predictor\",\n",
    "        n_estimators = 7000,\n",
    "        learning_rate = learning_rate,\n",
    "        reg_lambda = reg_lambda,\n",
    "        reg_alpha = reg_alpha,\n",
    "        subsample = subsample,\n",
    "        colsample_bytree = colsample_bytree,\n",
    "        max_depth = max_depth,\n",
    "    )\n",
    "    model.fit(xtrain, ytrain, early_stopping_rounds = 300, eval_set = [(xvalid, yvalid)], verbose = 1000)\n",
    "    preds_valid = model.predict(xvalid)\n",
    "    rmse = mean_squared_error(yvalid, preds_valid, squared = False)\n",
    "    return rmse"
   ]
  },
  {
   "cell_type": "code",
   "execution_count": 4,
   "id": "504db208",
   "metadata": {
    "execution": {
     "iopub.execute_input": "2021-08-26T16:15:59.069506Z",
     "iopub.status.busy": "2021-08-26T16:15:59.068629Z",
     "iopub.status.idle": "2021-08-26T16:17:06.485036Z",
     "shell.execute_reply": "2021-08-26T16:17:06.486140Z",
     "shell.execute_reply.started": "2021-08-26T10:24:12.065773Z"
    },
    "papermill": {
     "duration": 67.427351,
     "end_time": "2021-08-26T16:17:06.486352",
     "exception": false,
     "start_time": "2021-08-26T16:15:59.059001",
     "status": "completed"
    },
    "tags": []
   },
   "outputs": [
    {
     "name": "stderr",
     "output_type": "stream",
     "text": [
      "\u001b[32m[I 2021-08-26 16:15:59,066]\u001b[0m A new study created in memory with name: no-name-3806b7db-569a-4f8b-9dd1-20832f72615f\u001b[0m\n"
     ]
    },
    {
     "name": "stdout",
     "output_type": "stream",
     "text": [
      "[16:16:01] WARNING: ../src/learner.cc:231: Only 1 GPUs are visible, setting `gpu_id` to 0\n",
      "[0]\tvalidation_0-rmse:7.65351\n",
      "[1000]\tvalidation_0-rmse:0.73181\n",
      "[2000]\tvalidation_0-rmse:0.72792\n",
      "[3000]\tvalidation_0-rmse:0.72555\n",
      "[4000]\tvalidation_0-rmse:0.72395\n",
      "[5000]\tvalidation_0-rmse:0.72281\n",
      "[6000]\tvalidation_0-rmse:0.72198\n",
      "[6999]\tvalidation_0-rmse:0.72132\n"
     ]
    },
    {
     "name": "stderr",
     "output_type": "stream",
     "text": [
      "\u001b[32m[I 2021-08-26 16:16:18,457]\u001b[0m Trial 0 finished with value: 0.7213158068508109 and parameters: {'learning_rate': 0.016395899887688282, 'reg_lambda': 3.950060997010027e-05, 'reg_alpha': 46.62293465296621, 'subsample': 0.531664605970771, 'colsample_bytree': 0.7178841248029837, 'max_depth': 2}. Best is trial 0 with value: 0.7213158068508109.\u001b[0m\n"
     ]
    },
    {
     "name": "stdout",
     "output_type": "stream",
     "text": [
      "[16:16:20] WARNING: ../src/learner.cc:231: Only 1 GPUs are visible, setting `gpu_id` to 0\n",
      "[0]\tvalidation_0-rmse:7.45208\n",
      "[1000]\tvalidation_0-rmse:0.72050\n",
      "[1251]\tvalidation_0-rmse:0.72069\n"
     ]
    },
    {
     "name": "stderr",
     "output_type": "stream",
     "text": [
      "\u001b[32m[I 2021-08-26 16:16:29,035]\u001b[0m Trial 1 finished with value: 0.720465536987354 and parameters: {'learning_rate': 0.042633753418169815, 'reg_lambda': 2.7304672710196803e-08, 'reg_alpha': 3.671062805122271e-08, 'subsample': 0.8289721744413217, 'colsample_bytree': 0.8182474591264499, 'max_depth': 6}. Best is trial 1 with value: 0.720465536987354.\u001b[0m\n"
     ]
    },
    {
     "name": "stdout",
     "output_type": "stream",
     "text": [
      "[16:16:31] WARNING: ../src/learner.cc:231: Only 1 GPUs are visible, setting `gpu_id` to 0\n",
      "[0]\tvalidation_0-rmse:7.01334\n",
      "[730]\tvalidation_0-rmse:0.72119\n"
     ]
    },
    {
     "name": "stderr",
     "output_type": "stream",
     "text": [
      "\u001b[32m[I 2021-08-26 16:16:36,178]\u001b[0m Trial 2 finished with value: 0.720129012045899 and parameters: {'learning_rate': 0.09951730771605123, 'reg_lambda': 0.014774039575400275, 'reg_alpha': 0.015555623072094056, 'subsample': 0.9309222409822783, 'colsample_bytree': 0.27296880769346366, 'max_depth': 6}. Best is trial 2 with value: 0.720129012045899.\u001b[0m\n"
     ]
    },
    {
     "name": "stdout",
     "output_type": "stream",
     "text": [
      "[16:16:38] WARNING: ../src/learner.cc:231: Only 1 GPUs are visible, setting `gpu_id` to 0\n",
      "[0]\tvalidation_0-rmse:7.62459\n",
      "[1000]\tvalidation_0-rmse:0.72252\n",
      "[2000]\tvalidation_0-rmse:0.72003\n",
      "[3000]\tvalidation_0-rmse:0.71962\n",
      "[3918]\tvalidation_0-rmse:0.71959\n"
     ]
    },
    {
     "name": "stderr",
     "output_type": "stream",
     "text": [
      "\u001b[32m[I 2021-08-26 16:16:56,877]\u001b[0m Trial 3 finished with value: 0.7195422586441621 and parameters: {'learning_rate': 0.02019006541464487, 'reg_lambda': 9.692599175478158e-08, 'reg_alpha': 0.11644115036710795, 'subsample': 0.9466540872869719, 'colsample_bytree': 0.7141025389129902, 'max_depth': 5}. Best is trial 3 with value: 0.7195422586441621.\u001b[0m\n"
     ]
    },
    {
     "name": "stdout",
     "output_type": "stream",
     "text": [
      "[16:16:59] WARNING: ../src/learner.cc:231: Only 1 GPUs are visible, setting `gpu_id` to 0\n",
      "[0]\tvalidation_0-rmse:7.37001\n",
      "[1000]\tvalidation_0-rmse:0.71998\n",
      "[2000]\tvalidation_0-rmse:0.71930\n",
      "[2115]\tvalidation_0-rmse:0.71935\n"
     ]
    },
    {
     "name": "stderr",
     "output_type": "stream",
     "text": [
      "\u001b[32m[I 2021-08-26 16:17:06,476]\u001b[0m Trial 4 finished with value: 0.7192786870407952 and parameters: {'learning_rate': 0.05319921803896438, 'reg_lambda': 4.061902345841237e-07, 'reg_alpha': 11.85067358866691, 'subsample': 0.5259431029448453, 'colsample_bytree': 0.8300629816653685, 'max_depth': 4}. Best is trial 4 with value: 0.7192786870407952.\u001b[0m\n"
     ]
    }
   ],
   "source": [
    "study = optuna.create_study(direction = \"minimize\")\n",
    "study.optimize(run, n_trials = 5)"
   ]
  },
  {
   "cell_type": "code",
   "execution_count": 5,
   "id": "be80d484",
   "metadata": {
    "execution": {
     "iopub.execute_input": "2021-08-26T16:17:06.546145Z",
     "iopub.status.busy": "2021-08-26T16:17:06.545317Z",
     "iopub.status.idle": "2021-08-26T16:17:06.552950Z",
     "shell.execute_reply": "2021-08-26T16:17:06.553563Z",
     "shell.execute_reply.started": "2021-08-26T10:30:14.984443Z"
    },
    "papermill": {
     "duration": 0.043293,
     "end_time": "2021-08-26T16:17:06.553761",
     "exception": false,
     "start_time": "2021-08-26T16:17:06.510468",
     "status": "completed"
    },
    "tags": []
   },
   "outputs": [
    {
     "data": {
      "text/plain": [
       "{'learning_rate': 0.05319921803896438,\n",
       " 'reg_lambda': 4.061902345841237e-07,\n",
       " 'reg_alpha': 11.85067358866691,\n",
       " 'subsample': 0.5259431029448453,\n",
       " 'colsample_bytree': 0.8300629816653685,\n",
       " 'max_depth': 4}"
      ]
     },
     "execution_count": 5,
     "metadata": {},
     "output_type": "execute_result"
    }
   ],
   "source": [
    "study.best_params"
   ]
  },
  {
   "cell_type": "code",
   "execution_count": null,
   "id": "333be20f",
   "metadata": {
    "papermill": {
     "duration": 0.016015,
     "end_time": "2021-08-26T16:17:06.600347",
     "exception": false,
     "start_time": "2021-08-26T16:17:06.584332",
     "status": "completed"
    },
    "tags": []
   },
   "outputs": [],
   "source": []
  }
 ],
 "metadata": {
  "kernelspec": {
   "display_name": "Python 3",
   "language": "python",
   "name": "python3"
  },
  "language_info": {
   "codemirror_mode": {
    "name": "ipython",
    "version": 3
   },
   "file_extension": ".py",
   "mimetype": "text/x-python",
   "name": "python",
   "nbconvert_exporter": "python",
   "pygments_lexer": "ipython3",
   "version": "3.7.10"
  },
  "papermill": {
   "default_parameters": {},
   "duration": 87.505721,
   "end_time": "2021-08-26T16:17:07.426641",
   "environment_variables": {},
   "exception": null,
   "input_path": "__notebook__.ipynb",
   "output_path": "__notebook__.ipynb",
   "parameters": {},
   "start_time": "2021-08-26T16:15:39.920920",
   "version": "2.3.3"
  }
 },
 "nbformat": 4,
 "nbformat_minor": 5
}
